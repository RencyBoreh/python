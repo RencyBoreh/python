{
 "cells": [
  {
   "cell_type": "code",
   "execution_count": 1,
   "id": "4407ba44-00b7-4da1-a371-8736081f10bf",
   "metadata": {},
   "outputs": [
    {
     "name": "stdout",
     "output_type": "stream",
     "text": [
      "1\n",
      "2\n",
      "3\n",
      "4\n",
      "5\n",
      "6\n",
      "7\n"
     ]
    }
   ],
   "source": [
    "#execute a block of code a fixed number of times\n",
    "#you can iterate over a range,string,sequence etc\n",
    "numbers=[1,2,3,4,5,6,7]\n",
    "for x in numbers:\n",
    "    print(x)"
   ]
  },
  {
   "cell_type": "code",
   "execution_count": 3,
   "id": "92e47cd7-1a74-47ac-be6a-bc4d8cb9f059",
   "metadata": {},
   "outputs": [
    {
     "name": "stdout",
     "output_type": "stream",
     "text": [
      "Rency Boreh\n",
      "Rency Boreh\n",
      "Rency Boreh\n",
      "Rency Boreh\n",
      "Rency Boreh\n",
      "Rency Boreh\n",
      "Rency Boreh\n",
      "Rency Boreh\n",
      "Rency Boreh\n",
      "Rency Boreh\n",
      "Rency Boreh\n"
     ]
    }
   ],
   "source": [
    "name=\"Rency Boreh\"\n",
    "for i in name:\n",
    "    print(name)"
   ]
  },
  {
   "cell_type": "code",
   "execution_count": 25,
   "id": "55e8dda6-7712-45dd-a55d-c3d592dd1195",
   "metadata": {},
   "outputs": [
    {
     "name": "stdout",
     "output_type": "stream",
     "text": [
      "1\n",
      "3\n",
      "5\n",
      "7\n",
      "9\n",
      "11\n",
      "13\n",
      "15\n",
      "17\n",
      "19\n"
     ]
    }
   ],
   "source": [
    "\n",
    "for x in range(1,21,2):\n",
    " print(x)"
   ]
  },
  {
   "cell_type": "code",
   "execution_count": null,
   "id": "a6835742-cafe-4bca-a545-c86af8935b83",
   "metadata": {},
   "outputs": [],
   "source": []
  }
 ],
 "metadata": {
  "kernelspec": {
   "display_name": "Python 3 (ipykernel)",
   "language": "python",
   "name": "python3"
  },
  "language_info": {
   "codemirror_mode": {
    "name": "ipython",
    "version": 3
   },
   "file_extension": ".py",
   "mimetype": "text/x-python",
   "name": "python",
   "nbconvert_exporter": "python",
   "pygments_lexer": "ipython3",
   "version": "3.12.4"
  }
 },
 "nbformat": 4,
 "nbformat_minor": 5
}
