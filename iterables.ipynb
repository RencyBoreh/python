{
 "cells": [
  {
   "cell_type": "code",
   "execution_count": 1,
   "id": "d9ed3892-68f4-4abb-a3ad-4ea945b5947c",
   "metadata": {},
   "outputs": [
    {
     "name": "stdout",
     "output_type": "stream",
     "text": [
      "name\n",
      "age\n",
      "school\n"
     ]
    }
   ],
   "source": [
    "#iterables are objects/collections that can return its element at a time allowing it to be iteratted over in a loop\n",
    "my_details={\n",
    "    \"name\":\"Rency\",\n",
    "    \"age\":21,\n",
    "    \"school\":\"KYU\"\n",
    "}\n",
    "for detail in my_details:\n",
    "    print(detail)"
   ]
  },
  {
   "cell_type": "code",
   "execution_count": 5,
   "id": "5703d91a-7bbb-404f-b788-ac92d4260214",
   "metadata": {},
   "outputs": [
    {
     "name": "stdout",
     "output_type": "stream",
     "text": [
      "school\n",
      "age\n",
      "name\n"
     ]
    }
   ],
   "source": [
    "for detail in reversed(my_details):\n",
    "    print(detail)"
   ]
  },
  {
   "cell_type": "code",
   "execution_count": 9,
   "id": "6f9b7f0d-9bf0-454d-ae35-4f48745d406a",
   "metadata": {},
   "outputs": [
    {
     "name": "stdout",
     "output_type": "stream",
     "text": [
      "Rency\n",
      "21\n",
      "KYU\n"
     ]
    }
   ],
   "source": [
    "for det in my_details.values():\n",
    "    print(det)"
   ]
  },
  {
   "cell_type": "code",
   "execution_count": 11,
   "id": "d336602d-b953-40e8-95ca-a0ada26f25d4",
   "metadata": {},
   "outputs": [
    {
     "name": "stdout",
     "output_type": "stream",
     "text": [
      "name Rency\n",
      "age 21\n",
      "school KYU\n"
     ]
    }
   ],
   "source": [
    "for key,value in my_details.items():\n",
    "    print(key,value)"
   ]
  },
  {
   "cell_type": "code",
   "execution_count": null,
   "id": "d772aafb-6f22-4979-b1bd-8722c123ace6",
   "metadata": {},
   "outputs": [],
   "source": []
  }
 ],
 "metadata": {
  "kernelspec": {
   "display_name": "Python 3 (ipykernel)",
   "language": "python",
   "name": "python3"
  },
  "language_info": {
   "codemirror_mode": {
    "name": "ipython",
    "version": 3
   },
   "file_extension": ".py",
   "mimetype": "text/x-python",
   "name": "python",
   "nbconvert_exporter": "python",
   "pygments_lexer": "ipython3",
   "version": "3.12.4"
  }
 },
 "nbformat": 4,
 "nbformat_minor": 5
}
