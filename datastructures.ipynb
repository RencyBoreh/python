{
 "cells": [
  {
   "cell_type": "code",
   "execution_count": 11,
   "id": "906c5339-3ad8-466d-bffd-17c730fcc386",
   "metadata": {},
   "outputs": [
    {
     "name": "stdout",
     "output_type": "stream",
     "text": [
      "deque(['Rabby', 'Resly', 'Rufoh', 'Seth', 'Adams'])\n"
     ]
    }
   ],
   "source": [
    "#In queues FIFO\n",
    "from collections import deque\n",
    "queue=deque([\"Rency\",\"Rabby\",\"Resly\",\"Rufoh\"])\n",
    "queue.append(\"Seth\")\n",
    "queue.append(\"Adams\")\n",
    "queue.popleft()\n",
    "print(queue)"
   ]
  },
  {
   "cell_type": "code",
   "execution_count": 15,
   "id": "8f006c83-85ec-43e3-9601-6f5a2f86d5aa",
   "metadata": {},
   "outputs": [
    {
     "name": "stdout",
     "output_type": "stream",
     "text": [
      "['Rabby', 'Rency', 'Resly', 'Rufoh', 'Seth']\n"
     ]
    }
   ],
   "source": [
    "#Lists follows LIFO\n",
    "names=[\"Rabby\",\"Rency\",\"Resly\",\"Rufoh\",\"Seth\"]\n",
    "names.append(\"Adams\")\n",
    "names.pop()\n",
    "print(names)"
   ]
  },
  {
   "cell_type": "code",
   "execution_count": null,
   "id": "6e1b214c-5017-49dd-be91-58008e7d3138",
   "metadata": {},
   "outputs": [],
   "source": []
  },
  {
   "cell_type": "code",
   "execution_count": null,
   "id": "5d152846-0457-41b7-b477-e61edbe11884",
   "metadata": {},
   "outputs": [],
   "source": []
  }
 ],
 "metadata": {
  "kernelspec": {
   "display_name": "Python 3 (ipykernel)",
   "language": "python",
   "name": "python3"
  },
  "language_info": {
   "codemirror_mode": {
    "name": "ipython",
    "version": 3
   },
   "file_extension": ".py",
   "mimetype": "text/x-python",
   "name": "python",
   "nbconvert_exporter": "python",
   "pygments_lexer": "ipython3",
   "version": "3.12.4"
  }
 },
 "nbformat": 4,
 "nbformat_minor": 5
}
